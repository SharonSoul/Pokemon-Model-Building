{
 "cells": [
  {
   "cell_type": "code",
   "execution_count": 227,
   "id": "6f7c9b96",
   "metadata": {},
   "outputs": [],
   "source": [
    "import pandas as pd\n",
    "import matplotlib.pyplot as plt\n",
    "import numpy as np\n",
    "import seaborn as sns"
   ]
  },
  {
   "cell_type": "code",
   "execution_count": 228,
   "id": "08a332f7",
   "metadata": {},
   "outputs": [],
   "source": [
    "pokemonData = pd.read_excel(\"pokemon_data.xlsx\")"
   ]
  },
  {
   "cell_type": "code",
   "execution_count": 229,
   "id": "307bd39e",
   "metadata": {},
   "outputs": [],
   "source": [
    "from sklearn.model_selection import train_test_split\n",
    "from sklearn import metrics\n",
    "from sklearn.linear_model import LogisticRegression\n",
    "from sklearn.naive_bayes import GaussianNB\n",
    "from sklearn.ensemble import RandomForestClassifier\n",
    "from sklearn.metrics import accuracy_score, f1_score"
   ]
  },
  {
   "cell_type": "code",
   "execution_count": 230,
   "id": "82eb0f07",
   "metadata": {},
   "outputs": [
    {
     "data": {
      "text/plain": [
       "(800, 12)"
      ]
     },
     "execution_count": 230,
     "metadata": {},
     "output_type": "execute_result"
    }
   ],
   "source": [
    "pokemonData.shape"
   ]
  },
  {
   "cell_type": "code",
   "execution_count": 231,
   "id": "f92b6b4d",
   "metadata": {},
   "outputs": [
    {
     "name": "stdout",
     "output_type": "stream",
     "text": [
      "<class 'pandas.core.frame.DataFrame'>\n",
      "RangeIndex: 800 entries, 0 to 799\n",
      "Data columns (total 12 columns):\n",
      " #   Column      Non-Null Count  Dtype \n",
      "---  ------      --------------  ----- \n",
      " 0   #           800 non-null    int64 \n",
      " 1   Name        800 non-null    object\n",
      " 2   Type 1      800 non-null    object\n",
      " 3   Type 2      414 non-null    object\n",
      " 4   HP          800 non-null    int64 \n",
      " 5   Attack      800 non-null    int64 \n",
      " 6   Defense     800 non-null    int64 \n",
      " 7   Sp. Atk     800 non-null    int64 \n",
      " 8   Sp. Def     800 non-null    int64 \n",
      " 9   Speed       800 non-null    int64 \n",
      " 10  Generation  800 non-null    int64 \n",
      " 11  Legendary   800 non-null    bool  \n",
      "dtypes: bool(1), int64(8), object(3)\n",
      "memory usage: 69.7+ KB\n"
     ]
    }
   ],
   "source": [
    "pokemonData.info()"
   ]
  },
  {
   "cell_type": "code",
   "execution_count": 232,
   "id": "c109ee07",
   "metadata": {},
   "outputs": [
    {
     "data": {
      "text/plain": [
       "#               0\n",
       "Name            0\n",
       "Type 1          0\n",
       "Type 2        386\n",
       "HP              0\n",
       "Attack          0\n",
       "Defense         0\n",
       "Sp. Atk         0\n",
       "Sp. Def         0\n",
       "Speed           0\n",
       "Generation      0\n",
       "Legendary       0\n",
       "dtype: int64"
      ]
     },
     "execution_count": 232,
     "metadata": {},
     "output_type": "execute_result"
    }
   ],
   "source": [
    "# For checking missing input/value in a series\n",
    "pokemonData.isnull().sum()"
   ]
  },
  {
   "cell_type": "code",
   "execution_count": 233,
   "id": "d0dfed38",
   "metadata": {},
   "outputs": [
    {
     "data": {
      "text/plain": [
       "array(['Poison', nan, 'Flying', 'Dragon', 'Ground', 'Fairy', 'Grass',\n",
       "       'Fighting', 'Psychic', 'Steel', 'Ice', 'Rock', 'Dark', 'Water',\n",
       "       'Electric', 'Fire', 'Ghost', 'Bug', 'Normal'], dtype=object)"
      ]
     },
     "execution_count": 233,
     "metadata": {},
     "output_type": "execute_result"
    }
   ],
   "source": [
    "pokemonData[\"Type 2\"].unique()"
   ]
  },
  {
   "cell_type": "code",
   "execution_count": 234,
   "id": "33ac5dd2",
   "metadata": {},
   "outputs": [
    {
     "data": {
      "text/plain": [
       "Flying      97\n",
       "Ground      35\n",
       "Poison      34\n",
       "Psychic     33\n",
       "Fighting    26\n",
       "Grass       25\n",
       "Fairy       23\n",
       "Steel       22\n",
       "Dark        20\n",
       "Dragon      18\n",
       "Water       14\n",
       "Ghost       14\n",
       "Ice         14\n",
       "Rock        14\n",
       "Fire        12\n",
       "Electric     6\n",
       "Normal       4\n",
       "Bug          3\n",
       "Name: Type 2, dtype: int64"
      ]
     },
     "execution_count": 234,
     "metadata": {},
     "output_type": "execute_result"
    }
   ],
   "source": [
    "pokemonData[\"Type 2\"].value_counts()"
   ]
  },
  {
   "cell_type": "code",
   "execution_count": 235,
   "id": "33a6bb53",
   "metadata": {},
   "outputs": [
    {
     "data": {
      "text/plain": [
       "<AxesSubplot:ylabel='Legendary'>"
      ]
     },
     "execution_count": 235,
     "metadata": {},
     "output_type": "execute_result"
    },
    {
     "data": {
      "image/png": "[encoded data removed]",
      "text/plain": [
       "<Figure size 432x288 with 1 Axes>"
      ]
     },
     "metadata": {},
     "output_type": "display_data"
    }
   ],
   "source": [
    "pokemonData[\"Legendary\"].value_counts().plot(kind = \"pie\")\n"
   ]
  },
  {
   "cell_type": "code",
   "execution_count": 236,
   "id": "1d1752da",
   "metadata": {},
   "outputs": [
    {
     "data": {
      "image/png": "[encoded data removed]",
      "text/plain": [
       "<Figure size 432x288 with 1 Axes>"
      ]
     },
     "metadata": {
      "needs_background": "light"
     },
     "output_type": "display_data"
    }
   ],
   "source": [
    "pokemonData[\"Legendary\"].value_counts().plot(kind = \"bar\", color = \"red\")\n",
    "plt.xticks(rotation = 0)\n",
    "# plt.figure(figsize = 10, 5)\n",
    "\n",
    "plt.show()"
   ]
  },
  {
   "cell_type": "code",
   "execution_count": 237,
   "id": "03661e80",
   "metadata": {},
   "outputs": [],
   "source": [
    "pokemonData.drop([\"#\", \"Name\"], axis = \"columns\", inplace = True)"
   ]
  },
  {
   "cell_type": "code",
   "execution_count": 238,
   "id": "3beaa415",
   "metadata": {},
   "outputs": [
    {
     "data": {
      "text/html": [
       "<div>\n",
       "<style scoped>\n",
       "    .dataframe tbody tr th:only-of-type {\n",
       "        vertical-align: middle;\n",
       "    }\n",
       "\n",
       "    .dataframe tbody tr th {\n",
       "        vertical-align: top;\n",
       "    }\n",
       "\n",
       "    .dataframe thead th {\n",
       "        text-align: right;\n",
       "    }\n",
       "</style>\n",
       "<table border=\"1\" class=\"dataframe\">\n",
       "  <thead>\n",
       "    <tr style=\"text-align: right;\">\n",
       "      <th></th>\n",
       "      <th>Type 1</th>\n",
       "      <th>Type 2</th>\n",
       "      <th>HP</th>\n",
       "      <th>Attack</th>\n",
       "      <th>Defense</th>\n",
       "      <th>Sp. Atk</th>\n",
       "      <th>Sp. Def</th>\n",
       "      <th>Speed</th>\n",
       "      <th>Generation</th>\n",
       "      <th>Legendary</th>\n",
       "    </tr>\n",
       "  </thead>\n",
       "  <tbody>\n",
       "    <tr>\n",
       "      <th>0</th>\n",
       "      <td>Grass</td>\n",
       "      <td>Poison</td>\n",
       "      <td>45</td>\n",
       "      <td>49</td>\n",
       "      <td>49</td>\n",
       "      <td>65</td>\n",
       "      <td>65</td>\n",
       "      <td>45</td>\n",
       "      <td>1</td>\n",
       "      <td>False</td>\n",
       "    </tr>\n",
       "    <tr>\n",
       "      <th>1</th>\n",
       "      <td>Grass</td>\n",
       "      <td>Poison</td>\n",
       "      <td>60</td>\n",
       "      <td>62</td>\n",
       "      <td>63</td>\n",
       "      <td>80</td>\n",
       "      <td>80</td>\n",
       "      <td>60</td>\n",
       "      <td>1</td>\n",
       "      <td>False</td>\n",
       "    </tr>\n",
       "    <tr>\n",
       "      <th>2</th>\n",
       "      <td>Grass</td>\n",
       "      <td>Poison</td>\n",
       "      <td>80</td>\n",
       "      <td>82</td>\n",
       "      <td>83</td>\n",
       "      <td>100</td>\n",
       "      <td>100</td>\n",
       "      <td>80</td>\n",
       "      <td>1</td>\n",
       "      <td>False</td>\n",
       "    </tr>\n",
       "    <tr>\n",
       "      <th>3</th>\n",
       "      <td>Grass</td>\n",
       "      <td>Poison</td>\n",
       "      <td>80</td>\n",
       "      <td>100</td>\n",
       "      <td>123</td>\n",
       "      <td>122</td>\n",
       "      <td>120</td>\n",
       "      <td>80</td>\n",
       "      <td>1</td>\n",
       "      <td>False</td>\n",
       "    </tr>\n",
       "    <tr>\n",
       "      <th>4</th>\n",
       "      <td>Fire</td>\n",
       "      <td>NaN</td>\n",
       "      <td>39</td>\n",
       "      <td>52</td>\n",
       "      <td>43</td>\n",
       "      <td>60</td>\n",
       "      <td>50</td>\n",
       "      <td>65</td>\n",
       "      <td>1</td>\n",
       "      <td>False</td>\n",
       "    </tr>\n",
       "  </tbody>\n",
       "</table>\n",
       "</div>"
      ],
      "text/plain": [
       "  Type 1  Type 2  HP  Attack  Defense  Sp. Atk  Sp. Def  Speed  Generation  \\\n",
       "0  Grass  Poison  45      49       49       65       65     45           1   \n",
       "1  Grass  Poison  60      62       63       80       80     60           1   \n",
       "2  Grass  Poison  80      82       83      100      100     80           1   \n",
       "3  Grass  Poison  80     100      123      122      120     80           1   \n",
       "4   Fire     NaN  39      52       43       60       50     65           1   \n",
       "\n",
       "   Legendary  \n",
       "0      False  \n",
       "1      False  \n",
       "2      False  \n",
       "3      False  \n",
       "4      False  "
      ]
     },
     "execution_count": 238,
     "metadata": {},
     "output_type": "execute_result"
    }
   ],
   "source": [
    "pokemonData.head(5)"
   ]
  },
  {
   "cell_type": "code",
   "execution_count": 239,
   "id": "48ad70d7",
   "metadata": {},
   "outputs": [],
   "source": [
    "# For changing columns to float \n",
    "# astype ()\n",
    "#pokemonData[\"Legendary\"] = pokemonData[\"Legendary\"].astype(float)"
   ]
  },
  {
   "cell_type": "code",
   "execution_count": 240,
   "id": "d0a643f0",
   "metadata": {},
   "outputs": [
    {
     "name": "stdout",
     "output_type": "stream",
     "text": [
      "<class 'pandas.core.frame.DataFrame'>\n",
      "RangeIndex: 800 entries, 0 to 799\n",
      "Data columns (total 10 columns):\n",
      " #   Column      Non-Null Count  Dtype \n",
      "---  ------      --------------  ----- \n",
      " 0   Type 1      800 non-null    object\n",
      " 1   Type 2      414 non-null    object\n",
      " 2   HP          800 non-null    int64 \n",
      " 3   Attack      800 non-null    int64 \n",
      " 4   Defense     800 non-null    int64 \n",
      " 5   Sp. Atk     800 non-null    int64 \n",
      " 6   Sp. Def     800 non-null    int64 \n",
      " 7   Speed       800 non-null    int64 \n",
      " 8   Generation  800 non-null    int64 \n",
      " 9   Legendary   800 non-null    bool  \n",
      "dtypes: bool(1), int64(7), object(2)\n",
      "memory usage: 57.2+ KB\n"
     ]
    }
   ],
   "source": [
    "pokemonData.info()"
   ]
  },
  {
   "cell_type": "code",
   "execution_count": 241,
   "id": "b645b412",
   "metadata": {},
   "outputs": [],
   "source": [
    "pokemonData[\"Legendary\"] = pokemonData[\"Legendary\"].apply(lambda x: 1 if x == \"True\" else 0 )"
   ]
  },
  {
   "cell_type": "code",
   "execution_count": 242,
   "id": "af00747f",
   "metadata": {
    "scrolled": true
   },
   "outputs": [
    {
     "name": "stdout",
     "output_type": "stream",
     "text": [
      "<class 'pandas.core.frame.DataFrame'>\n",
      "RangeIndex: 800 entries, 0 to 799\n",
      "Data columns (total 10 columns):\n",
      " #   Column      Non-Null Count  Dtype \n",
      "---  ------      --------------  ----- \n",
      " 0   Type 1      800 non-null    object\n",
      " 1   Type 2      414 non-null    object\n",
      " 2   HP          800 non-null    int64 \n",
      " 3   Attack      800 non-null    int64 \n",
      " 4   Defense     800 non-null    int64 \n",
      " 5   Sp. Atk     800 non-null    int64 \n",
      " 6   Sp. Def     800 non-null    int64 \n",
      " 7   Speed       800 non-null    int64 \n",
      " 8   Generation  800 non-null    int64 \n",
      " 9   Legendary   800 non-null    int64 \n",
      "dtypes: int64(8), object(2)\n",
      "memory usage: 62.6+ KB\n"
     ]
    }
   ],
   "source": [
    "pokemonData.info()"
   ]
  },
  {
   "cell_type": "code",
   "execution_count": 243,
   "id": "bd6b22c5",
   "metadata": {},
   "outputs": [
    {
     "name": "stdout",
     "output_type": "stream",
     "text": [
      "(640, 9)\n",
      "(640,)\n",
      "(160, 9)\n",
      "(160,)\n"
     ]
    }
   ],
   "source": [
    "print(X_train.shape)\n",
    "print(y_train.shape)\n",
    "print(X_test.shape)\n",
    "print(y_test.shape)"
   ]
  },
  {
   "cell_type": "code",
   "execution_count": 244,
   "id": "1d41329b",
   "metadata": {},
   "outputs": [],
   "source": [
    "# Importing the algorithm\n",
    "from sklearn.preprocessing import LabelEncoder, LabelBinarizer"
   ]
  },
  {
   "cell_type": "code",
   "execution_count": 245,
   "id": "78c9d6e3",
   "metadata": {},
   "outputs": [],
   "source": [
    "#\n",
    "le = LabelEncoder()\n",
    "lb = LabelBinarizer()"
   ]
  },
  {
   "cell_type": "code",
   "execution_count": 246,
   "id": "565ca468",
   "metadata": {},
   "outputs": [],
   "source": [
    "# Converting Type 1 to integers using LabelEncoder\n",
    "pokemonData[\"Type 1\"] = le.fit_transform(pokemonData[\"Type 1\"])"
   ]
  },
  {
   "cell_type": "code",
   "execution_count": 247,
   "id": "aed5bf1f",
   "metadata": {},
   "outputs": [
    {
     "data": {
      "text/plain": [
       "0    9\n",
       "1    9\n",
       "2    9\n",
       "3    9\n",
       "4    6\n",
       "Name: Type 1, dtype: int32"
      ]
     },
     "execution_count": 247,
     "metadata": {},
     "output_type": "execute_result"
    }
   ],
   "source": [
    "pokemonData[\"Type 1\"].head(5)"
   ]
  },
  {
   "cell_type": "code",
   "execution_count": 248,
   "id": "632b6ef0",
   "metadata": {},
   "outputs": [
    {
     "name": "stdout",
     "output_type": "stream",
     "text": [
      "<class 'pandas.core.frame.DataFrame'>\n",
      "RangeIndex: 800 entries, 0 to 799\n",
      "Data columns (total 10 columns):\n",
      " #   Column      Non-Null Count  Dtype \n",
      "---  ------      --------------  ----- \n",
      " 0   Type 1      800 non-null    int32 \n",
      " 1   Type 2      414 non-null    object\n",
      " 2   HP          800 non-null    int64 \n",
      " 3   Attack      800 non-null    int64 \n",
      " 4   Defense     800 non-null    int64 \n",
      " 5   Sp. Atk     800 non-null    int64 \n",
      " 6   Sp. Def     800 non-null    int64 \n",
      " 7   Speed       800 non-null    int64 \n",
      " 8   Generation  800 non-null    int64 \n",
      " 9   Legendary   800 non-null    int64 \n",
      "dtypes: int32(1), int64(8), object(1)\n",
      "memory usage: 59.5+ KB\n"
     ]
    }
   ],
   "source": [
    "pokemonData.info()"
   ]
  },
  {
   "cell_type": "code",
   "execution_count": 249,
   "id": "46b840cf",
   "metadata": {},
   "outputs": [
    {
     "name": "stdout",
     "output_type": "stream",
     "text": [
      "<class 'pandas.core.frame.DataFrame'>\n",
      "RangeIndex: 800 entries, 0 to 799\n",
      "Data columns (total 10 columns):\n",
      " #   Column      Non-Null Count  Dtype \n",
      "---  ------      --------------  ----- \n",
      " 0   Type 1      800 non-null    int32 \n",
      " 1   Type 2      414 non-null    object\n",
      " 2   HP          800 non-null    int64 \n",
      " 3   Attack      800 non-null    int64 \n",
      " 4   Defense     800 non-null    int64 \n",
      " 5   Sp. Atk     800 non-null    int64 \n",
      " 6   Sp. Def     800 non-null    int64 \n",
      " 7   Speed       800 non-null    int64 \n",
      " 8   Generation  800 non-null    int64 \n",
      " 9   Legendary   800 non-null    int64 \n",
      "dtypes: int32(1), int64(8), object(1)\n",
      "memory usage: 59.5+ KB\n"
     ]
    }
   ],
   "source": [
    "pokemonData.info()"
   ]
  },
  {
   "cell_type": "code",
   "execution_count": 250,
   "id": "36f56176",
   "metadata": {},
   "outputs": [
    {
     "data": {
      "text/plain": [
       "'Flying'"
      ]
     },
     "execution_count": 250,
     "metadata": {},
     "output_type": "execute_result"
    }
   ],
   "source": [
    "# Checking mode (the [0] will pick out only the \"flying\")\n",
    "pokemonData[\"Type 2\"].mode()[0]"
   ]
  },
  {
   "cell_type": "code",
   "execution_count": 251,
   "id": "d49f690e",
   "metadata": {},
   "outputs": [],
   "source": [
    "# Filling in null values with the mode (Highest occuring numbers) which is FLYING OBJECT\n",
    "pokemonData[\"Type 2\"] = pokemonData[\"Type 2\"].fillna(pokemonData[\"Type 2\"].mode()[0])"
   ]
  },
  {
   "cell_type": "code",
   "execution_count": 252,
   "id": "97d5b535",
   "metadata": {},
   "outputs": [
    {
     "name": "stdout",
     "output_type": "stream",
     "text": [
      "<class 'pandas.core.frame.DataFrame'>\n",
      "RangeIndex: 800 entries, 0 to 799\n",
      "Data columns (total 10 columns):\n",
      " #   Column      Non-Null Count  Dtype \n",
      "---  ------      --------------  ----- \n",
      " 0   Type 1      800 non-null    int32 \n",
      " 1   Type 2      800 non-null    object\n",
      " 2   HP          800 non-null    int64 \n",
      " 3   Attack      800 non-null    int64 \n",
      " 4   Defense     800 non-null    int64 \n",
      " 5   Sp. Atk     800 non-null    int64 \n",
      " 6   Sp. Def     800 non-null    int64 \n",
      " 7   Speed       800 non-null    int64 \n",
      " 8   Generation  800 non-null    int64 \n",
      " 9   Legendary   800 non-null    int64 \n",
      "dtypes: int32(1), int64(8), object(1)\n",
      "memory usage: 59.5+ KB\n"
     ]
    }
   ],
   "source": [
    "pokemonData.info()"
   ]
  },
  {
   "cell_type": "code",
   "execution_count": 253,
   "id": "dddfdfeb",
   "metadata": {},
   "outputs": [],
   "source": [
    "# Converting TYPE 2 series to integers\n",
    "pokemonData[\"Type 2\"] = le.fit_transform(pokemonData[\"Type 2\"])"
   ]
  },
  {
   "cell_type": "code",
   "execution_count": 254,
   "id": "2079a322",
   "metadata": {},
   "outputs": [
    {
     "name": "stdout",
     "output_type": "stream",
     "text": [
      "<class 'pandas.core.frame.DataFrame'>\n",
      "RangeIndex: 800 entries, 0 to 799\n",
      "Data columns (total 10 columns):\n",
      " #   Column      Non-Null Count  Dtype\n",
      "---  ------      --------------  -----\n",
      " 0   Type 1      800 non-null    int32\n",
      " 1   Type 2      800 non-null    int32\n",
      " 2   HP          800 non-null    int64\n",
      " 3   Attack      800 non-null    int64\n",
      " 4   Defense     800 non-null    int64\n",
      " 5   Sp. Atk     800 non-null    int64\n",
      " 6   Sp. Def     800 non-null    int64\n",
      " 7   Speed       800 non-null    int64\n",
      " 8   Generation  800 non-null    int64\n",
      " 9   Legendary   800 non-null    int64\n",
      "dtypes: int32(2), int64(8)\n",
      "memory usage: 56.4 KB\n"
     ]
    }
   ],
   "source": [
    "pokemonData.info()"
   ]
  },
  {
   "cell_type": "code",
   "execution_count": 255,
   "id": "02727874",
   "metadata": {},
   "outputs": [],
   "source": [
    "X = pokemonData.drop(\"Legendary\", axis = \"columns\")"
   ]
  },
  {
   "cell_type": "code",
   "execution_count": 256,
   "id": "1b3c3de5",
   "metadata": {},
   "outputs": [],
   "source": [
    "y = pokemonData[\"Legendary\"]"
   ]
  },
  {
   "cell_type": "code",
   "execution_count": 257,
   "id": "17a02218",
   "metadata": {},
   "outputs": [],
   "source": [
    "X_train, X_test, y_train, y_test = train_test_split(X, y, test_size = 0.2, random_state = 4)"
   ]
  },
  {
   "cell_type": "code",
   "execution_count": 258,
   "id": "67851d5b",
   "metadata": {},
   "outputs": [],
   "source": [
    "logist = LogisticRegression()"
   ]
  },
  {
   "cell_type": "code",
   "execution_count": 259,
   "id": "b067d4ef",
   "metadata": {},
   "outputs": [
    {
     "name": "stdout",
     "output_type": "stream",
     "text": [
      "(640, 9)\n",
      "(640,)\n",
      "(160, 9)\n",
      "(160,)\n"
     ]
    }
   ],
   "source": [
    "print(X_train.shape)\n",
    "print(y_train.shape)\n",
    "print(X_test.shape)\n",
    "print(y_test.shape)"
   ]
  },
  {
   "cell_type": "code",
   "execution_count": 260,
   "id": "e1cdb0ca",
   "metadata": {},
   "outputs": [],
   "source": [
    "gaus = GaussianNB()"
   ]
  },
  {
   "cell_type": "code",
   "execution_count": 261,
   "id": "ba70cf5b",
   "metadata": {},
   "outputs": [
    {
     "data": {
      "text/plain": [
       "GaussianNB()"
      ]
     },
     "execution_count": 261,
     "metadata": {},
     "output_type": "execute_result"
    }
   ],
   "source": [
    "gaus.fit(X_train, y_train)"
   ]
  },
  {
   "cell_type": "code",
   "execution_count": 262,
   "id": "aaf5a396",
   "metadata": {
    "scrolled": true
   },
   "outputs": [
    {
     "data": {
      "text/plain": [
       "array([0, 0, 0, 0, 0, 0, 0, 0, 0, 0, 0, 0, 0, 0, 0, 0, 0, 0, 0, 0, 0, 0,\n",
       "       0, 0, 0, 0, 0, 0, 0, 0, 0, 0, 0, 0, 0, 0, 0, 0, 0, 0, 0, 0, 0, 0,\n",
       "       0, 0, 0, 0, 0, 0, 0, 0, 0, 0, 0, 0, 0, 0, 0, 0, 0, 0, 0, 0, 0, 0,\n",
       "       0, 0, 0, 0, 0, 0, 0, 0, 0, 0, 0, 0, 0, 0, 0, 0, 0, 0, 0, 0, 0, 0,\n",
       "       0, 0, 0, 0, 0, 0, 0, 0, 0, 0, 0, 0, 0, 0, 0, 0, 0, 0, 0, 0, 0, 0,\n",
       "       0, 0, 0, 0, 0, 0, 0, 0, 0, 0, 0, 0, 0, 0, 0, 0, 0, 0, 0, 0, 0, 0,\n",
       "       0, 0, 0, 0, 0, 0, 0, 0, 0, 0, 0, 0, 0, 0, 0, 0, 0, 0, 0, 0, 0, 0,\n",
       "       0, 0, 0, 0, 0, 0], dtype=int64)"
      ]
     },
     "execution_count": 262,
     "metadata": {},
     "output_type": "execute_result"
    }
   ],
   "source": [
    "gaus.predict(X_test)"
   ]
  },
  {
   "cell_type": "code",
   "execution_count": 263,
   "id": "241c5b58",
   "metadata": {},
   "outputs": [],
   "source": [
    "pred = gaus.predict(X_test)"
   ]
  },
  {
   "cell_type": "code",
   "execution_count": 264,
   "id": "9d5dfa24",
   "metadata": {},
   "outputs": [
    {
     "data": {
      "text/plain": [
       "100.0"
      ]
     },
     "execution_count": 264,
     "metadata": {},
     "output_type": "execute_result"
    }
   ],
   "source": [
    "accuracy_score(y_test, pred) * 100"
   ]
  },
  {
   "cell_type": "code",
   "execution_count": 265,
   "id": "d6ff3f42",
   "metadata": {},
   "outputs": [],
   "source": [
    "rand = RandomForestClassifier()"
   ]
  },
  {
   "cell_type": "code",
   "execution_count": 266,
   "id": "cdf82faf",
   "metadata": {},
   "outputs": [
    {
     "data": {
      "text/plain": [
       "RandomForestClassifier()"
      ]
     },
     "execution_count": 266,
     "metadata": {},
     "output_type": "execute_result"
    }
   ],
   "source": [
    "rand.fit(X_train, y_train)"
   ]
  },
  {
   "cell_type": "code",
   "execution_count": 267,
   "id": "f000f6b2",
   "metadata": {},
   "outputs": [
    {
     "data": {
      "text/plain": [
       "array([0, 0, 0, 0, 0, 0, 0, 0, 0, 0, 0, 0, 0, 0, 0, 0, 0, 0, 0, 0, 0, 0,\n",
       "       0, 0, 0, 0, 0, 0, 0, 0, 0, 0, 0, 0, 0, 0, 0, 0, 0, 0, 0, 0, 0, 0,\n",
       "       0, 0, 0, 0, 0, 0, 0, 0, 0, 0, 0, 0, 0, 0, 0, 0, 0, 0, 0, 0, 0, 0,\n",
       "       0, 0, 0, 0, 0, 0, 0, 0, 0, 0, 0, 0, 0, 0, 0, 0, 0, 0, 0, 0, 0, 0,\n",
       "       0, 0, 0, 0, 0, 0, 0, 0, 0, 0, 0, 0, 0, 0, 0, 0, 0, 0, 0, 0, 0, 0,\n",
       "       0, 0, 0, 0, 0, 0, 0, 0, 0, 0, 0, 0, 0, 0, 0, 0, 0, 0, 0, 0, 0, 0,\n",
       "       0, 0, 0, 0, 0, 0, 0, 0, 0, 0, 0, 0, 0, 0, 0, 0, 0, 0, 0, 0, 0, 0,\n",
       "       0, 0, 0, 0, 0, 0], dtype=int64)"
      ]
     },
     "execution_count": 267,
     "metadata": {},
     "output_type": "execute_result"
    }
   ],
   "source": [
    "rand.predict(X_test)"
   ]
  },
  {
   "cell_type": "code",
   "execution_count": 268,
   "id": "cad2e0b1",
   "metadata": {},
   "outputs": [],
   "source": [
    "predo = rand.predict(X_test)"
   ]
  },
  {
   "cell_type": "code",
   "execution_count": 269,
   "id": "8246a058",
   "metadata": {},
   "outputs": [
    {
     "data": {
      "text/plain": [
       "1.0"
      ]
     },
     "execution_count": 269,
     "metadata": {},
     "output_type": "execute_result"
    }
   ],
   "source": [
    "accuracy_score(y_test, predo)"
   ]
  },
  {
   "cell_type": "code",
   "execution_count": null,
   "id": "892766f1",
   "metadata": {},
   "outputs": [],
   "source": []
  }
 ],
 "metadata": {
  "kernelspec": {
   "display_name": "Python 3 (ipykernel)",
   "language": "python",
   "name": "python3"
  },
  "language_info": {
   "codemirror_mode": {
    "name": "ipython",
    "version": 3
   },
   "file_extension": ".py",
   "mimetype": "text/x-python",
   "name": "python",
   "nbconvert_exporter": "python",
   "pygments_lexer": "ipython3",
   "version": "3.9.12"
  }
 },
 "nbformat": 4,
 "nbformat_minor": 5
}
